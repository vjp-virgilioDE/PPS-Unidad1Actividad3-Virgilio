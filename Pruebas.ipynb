{
 "cells": [
  {
   "cell_type": "markdown",
   "id": "5cc9d128-cd34-4786-a973-f3cb7edc1f51",
   "metadata": {},
   "source": [
    "\n"
   ]
  },
  {
   "cell_type": "markdown",
   "id": "fe3a12cf-bc92-4c00-9f24-e02cb11dfd84",
   "metadata": {},
   "source": [
    "#Pruebas en Python\n",
    "\n",
    "## Pruebas de caja negra:\n",
    "\n",
    "Vamos a partir de la siguiente función:"
   ]
  },
  {
   "cell_type": "code",
   "execution_count": 1,
   "id": "5c70cb3b-a06f-448b-b44e-1df05c631f09",
   "metadata": {},
   "outputs": [],
   "source": [
    "def isNumber(valor):\n",
    "    \"\"\"Indica si el argumento introducido es un número o no.\"\"\"\n",
    "    try:\n",
    "        float(valor)  # Intentar convertir a número\n",
    "        return True\n",
    "    except ValueError:\n",
    "        return False\n"
   ]
  },
  {
   "cell_type": "markdown",
   "id": "3c285a1a-dd3e-4cf1-b519-92773e85cf9c",
   "metadata": {},
   "source": [
    "Lo primero que tenemos que hacer es el estudio de las clases de equivalencia y de los valores límite.\n",
    "\n",
    "### Clases de equivalencia\n",
    "\n",
    "Vamos a tomar como clases de equivalencia los diferentes tipos de datos que podemos pasar a la función. Así tendremos:\n",
    ">- Números enteros\n",
    ">- Números reales (float)\n",
    ">- Booleanos\n",
    ">- Cádenas de caracteres (str)\n",
    "\n",
    "Vemos también como dentro de los números enteros tenemos dos clases de equivalencia que pueden tener comportamientos diferentes:\n",
    "\n",
    ">- Números enteros positivos\n",
    ">- Números enteros negativos\n",
    ">- Cero\n",
    "\n",
    "Podríamos considerar también como valor límite dentro de la clase de Cádenas de caracteres, la cadena vacía.\n",
    "\n",
    " ### Estudio de los valores límite\n",
    "\n",
    " En el caso de los valores límites, nos encontraremos valores límite en las clases de los enteros negativos y positivos. No tenemos valor límite en los extremos (positivo y negativo) pero sí en el valor inferior, por lo que tendremos que realizar pruebas con los valores:\n",
    " >- 0\n",
    " >- 1\n",
    " >- -1\n",
    "\n",
    "Voy a añadir también una prueba con un número entero grande, para comprobar que no da problema.\n",
    "\n",
    "También voy a hacer prueba utilizando el tipo _none_, es decir, sin pasar argumento a la función.\n",
    "\n",
    "Vemos que no es necesario hacer pruebas con todos y cada uno de las condiciones anteriores, ya que, el _1_ es número entero perto también es valor límite, o sea que podemos combinar las pruebas.\n",
    "\n",
    ">Para la la función isNumber tendríamos el __siguiente test__:"
   ]
  },
  {
   "cell_type": "markdown",
   "id": "7e5bf477-dba3-420b-8d1b-e8deee6c1e88",
   "metadata": {},
   "source": [
    "Pruebas de Caja Negra\n",
    "\n",
    "Pruebas para isNumber:\n",
    "\n",
    "    Entrada: \"123\" → Salida esperada: True\n",
    "    Entrada: \"abc\" → Salida esperada: False\n",
    "    Entrada: \"12.34\" → Salida esperada: True\n",
    "    Entrada: \" \" → Salida esperada: False\n"
   ]
  },
  {
   "cell_type": "markdown",
   "id": "0bc75a2d-bdde-462f-9103-a40eeb197595",
   "metadata": {},
   "source": [
    "## Prueba Caja Blanca\n",
    "\n",
    "Para las pruebas de caja blanca vamos a utilizar la función __division__: "
   ]
  },
  {
   "cell_type": "code",
   "execution_count": null,
   "id": "a28cec05-133b-4db3-8d1a-8679bd71b87e",
   "metadata": {},
   "outputs": [],
   "source": [
    "def division(a, b):\n",
    "    if b == 0:\n",
    "        return \"Error: División por cero\"\n",
    "    return a / b\n"
   ]
  },
  {
   "cell_type": "markdown",
   "id": "64569848-2f1e-4bc4-95d3-638243755dde",
   "metadata": {},
   "source": [
    "En este caso tendremos que crear el grafo de flujo asociado a la función para ver las sentencias/condiciones/decisiones que debemos de cubrir.\n",
    "Aquí vemos un pequeño diagrama de flujo:\n",
    "\n",
    "```mermaid\n",
    "graph TD;\n",
    "    Inicio-->IF(if b == 0);\n",
    "    Si se cumple la condición termina el programa con un mensaje de error ---> Fin;.\n",
    "    Si no se cumple la condición pasamos por el segundo camino directamente a ejecutar la operación.\n",
    "    Inicio-->(return a/b);\n",
    "    IF-->Operación a/b ---> Fin;\n",
    "```\n",
    "\n",
    "Del grafo, vemos que para cubrir las sentencias/condiciones/decisiones tenemos que hacer una prueba por cada uno de los posibles caminos del grafo, por lo tanto:\n",
    "> - Divisor mayor que cero\n",
    "> - Divisor menor o igual a cero.\n",
    "\n",
    "Vamos a darnos cuenta que las pruebas de caja blanca y caja negra son complementarias, es por eso que en las pruebas de caja blanca, no voy a hacer pruebas con números negativos, cadenas de caracteres, etc... de eso ya se encargan las pruebas de caja blanca en las que sí lo tendríamos que hacer.\n"
   ]
  },
  {
   "cell_type": "code",
   "execution_count": null,
   "id": "cf32629d-e61b-4b66-96f2-e71379c78ca8",
   "metadata": {},
   "outputs": [],
   "source": [
    "\n",
    "    def test_division(self):\n",
    "        self.assertEqual(division(10, 2), 5.0)\n",
    "        self.assertEqual(division(5, 0), \"Error: División por cero\")\n",
    "        self.assertEqual(division(0, 5), 0.0)\n",
    "        self.assertEqual(division(-10, 2), -5.0)\n"
   ]
  },
  {
   "cell_type": "markdown",
   "id": "2fbde0a8-898d-4725-8bf8-4dd5097a95bc",
   "metadata": {},
   "source": [
    "## Ejecución del fichero de pruebas.\n",
    "Podemos colocar todas las pruebas en el mismo fichero o utilizar diferentes archivos para cada tipo de prueba. \n",
    "En mi caso he utilizado un único archivo con nombre test.py\n",
    ">Para ejecutar el archivo de pruebas utilizamos:"
   ]
  },
  {
   "cell_type": "code",
   "execution_count": 3,
   "id": "37eb694d-89bc-417d-92b3-262b5c6d853a",
   "metadata": {},
   "outputs": [
    {
     "name": "stdout",
     "output_type": "stream",
     "text": [
      "test_division (test.TestCalculadora.test_division) ... ok\n",
      "test_isNumber (test.TestCalculadora.test_isNumber) ... ok\n",
      "test_mayorCero (test.TestCalculadora.test_mayorCero) ... ok\n",
      "test_multiplicacion (test.TestCalculadora.test_multiplicacion) ... ok\n",
      "test_resta (test.TestCalculadora.test_resta) ... ok\n",
      "test_suma (test.TestCalculadora.test_suma) ... ok\n",
      "\n",
      "----------------------------------------------------------------------\n",
      "Ran 6 tests in 0.000s\n",
      "\n",
      "OK\n"
     ]
    }
   ],
   "source": [
    "!python3 -m unittest -v test.py"
   ]
  },
  {
   "cell_type": "markdown",
   "id": "f13cb200-ab0b-4024-8e9c-3fccf5bb95b1",
   "metadata": {},
   "source": [
    "### Fuentes, Grafos:\n",
    "https://www.youtube.com/watch?v=9N5vPeSWRfQ\n",
    "### Prueba de Caja blanca:\n",
    "https://youtu.be/GVegCwwfBZ0?feature=shared\n"
   ]
  },
  {
   "cell_type": "code",
   "execution_count": null,
   "id": "53ca6b24-3ec2-4efe-b58c-86c8ba570147",
   "metadata": {},
   "outputs": [],
   "source": []
  }
 ],
 "metadata": {
  "kernelspec": {
   "display_name": "Python 3 (ipykernel)",
   "language": "python",
   "name": "python3"
  },
  "language_info": {
   "codemirror_mode": {
    "name": "ipython",
    "version": 3
   },
   "file_extension": ".py",
   "mimetype": "text/x-python",
   "name": "python",
   "nbconvert_exporter": "python",
   "pygments_lexer": "ipython3",
   "version": "3.12.7"
  }
 },
 "nbformat": 4,
 "nbformat_minor": 5
}
