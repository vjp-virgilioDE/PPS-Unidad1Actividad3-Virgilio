{
 "cells": [
  {
   "cell_type": "markdown",
   "id": "2a1a612e-8571-4fb3-bd84-3079d0c11960",
   "metadata": {},
   "source": []
  },
  {
   "cell_type": "markdown",
   "id": "5cc9d128-cd34-4786-a973-f3cb7edc1f51",
   "metadata": {},
   "source": [
    "\n"
   ]
  },
  {
   "cell_type": "markdown",
   "id": "fe3a12cf-bc92-4c00-9f24-e02cb11dfd84",
   "metadata": {},
   "source": [
    "#Pruebas en Python\n",
    "\n",
    "## Pruebas de caja negra:\n",
    "\n",
    "Vamos a partir de la siguiente función:"
   ]
  },
  {
   "cell_type": "code",
   "execution_count": 2,
   "id": "5c70cb3b-a06f-448b-b44e-1df05c631f09",
   "metadata": {},
   "outputs": [],
   "source": [
    "def isNumber(valor):\n",
    "    \"\"\"Indica si el argumento introducido es un número o no.\"\"\"\n",
    "    try:\n",
    "        float(valor)  # Intentar convertir a número\n",
    "        return True\n",
    "    except ValueError:\n",
    "        return False\n"
   ]
  },
  {
   "cell_type": "markdown",
   "id": "3c285a1a-dd3e-4cf1-b519-92773e85cf9c",
   "metadata": {},
   "source": [
    "Lo primero que tenemos que hacer es el estudio de las clases de equivalencia y de los valores límite.\n",
    "\n",
    "### Clases de equivalencia\n",
    "\n",
    "Vamos a tomar como clases de equivalencia los diferentes tipos de datos que podemos pasar a la función. Así tendremos:\n",
    ">- Números enteros\n",
    ">- Números reales (float)\n",
    ">- Booleanos\n",
    ">- Cádenas de caracteres (str)\n",
    "\n",
    "Vemos también como dentro de los números enteros tenemos dos clases de equivalencia que pueden tener comportamientos diferentes:\n",
    "\n",
    ">- Números enteros positivos\n",
    ">- Números enteros negativos\n",
    ">- Cero\n",
    "\n",
    "Podríamos considerar también como valor límite dentro de la clase de Cádenas de caracteres, la cadena vacía.\n",
    "\n",
    " ### Estudio de los valores límite\n",
    "\n",
    " En el caso de los valores límites, nos encontraremos valores límite en las clases de los enteros negativos y positivos. No tenemos valor límite en los extremos (positivo y negativo) pero sí en el valor inferior, por lo que tendremos que realizar pruebas con los valores:\n",
    " >- 0\n",
    " >- 1\n",
    " >- -1\n",
    "\n",
    "Voy a añadir también una prueba con un número entero grande, para comprobar que no da problema.\n",
    "\n",
    "También voy a hacer prueba utilizando el tipo _none_, es decir, sin pasar argumento a la función.\n",
    "\n",
    "Vemos que no es necesario hacer pruebas con todos y cada uno de las condiciones anteriores, ya que, el _1_ es número entero perto también es valor límite, o sea que podemos combinar las pruebas.\n",
    "\n",
    ">Para la la función isNumber tendríamos el __siguiente test__:"
   ]
  },
  {
   "cell_type": "code",
   "execution_count": 8,
   "id": "9d7926fe-86c0-474c-8c08-d9861eae2cbe",
   "metadata": {},
   "outputs": [
    {
     "name": "stderr",
     "output_type": "stream",
     "text": [
      "E\n",
      "======================================================================\n",
      "ERROR: /home/carlitos/ (unittest.loader._FailedTest./home/carlitos/)\n",
      "----------------------------------------------------------------------\n",
      "AttributeError: module '__main__' has no attribute '/home/carlitos/'\n",
      "\n",
      "----------------------------------------------------------------------\n",
      "Ran 1 test in 0.002s\n",
      "\n",
      "FAILED (errors=1)\n"
     ]
    },
    {
     "ename": "SystemExit",
     "evalue": "1",
     "output_type": "error",
     "traceback": [
      "An exception has occurred, use %tb to see the full traceback.\n",
      "\u001b[0;31mSystemExit\u001b[0m\u001b[0;31m:\u001b[0m 1\n"
     ]
    },
    {
     "name": "stderr",
     "output_type": "stream",
     "text": [
      "/usr/lib/python3/dist-packages/IPython/core/interactiveshell.py:3585: UserWarning: To exit: use 'exit', 'quit', or Ctrl-D.\n",
      "  warn(\"To exit: use 'exit', 'quit', or Ctrl-D.\", stacklevel=1)\n"
     ]
    }
   ],
   "source": [
    "import unittest\n",
    "import basic_cal\n",
    "\n",
    "ca = basic_cal\n",
    "\n",
    "\n",
    "class TestIsNumberCajaNegra(unittest.TestCase):\n",
    "\n",
    "    def test_integer(self):\n",
    "        self.assertTrue(ca.isnumber(1))\n",
    "        self.assertTrue(ca.isnumber(-1))\n",
    "        self.assertTrue(ca.isnumber(0))\n",
    "        self.assertTrue(ca.isnumber(3))\n",
    "        \n",
    "    def test_great_integer(self):\n",
    "        self.assertTrue(ca.isnumber(1111111111111111111111111111111111111111111111111111111111111111111111))\n",
    "\n",
    "    def test_float(self):\n",
    "        self.assertTrue(ca.isnumber(1.5))\n",
    "        self.assertTrue(ca.isnumber(-1.5))\n",
    "        self.assertTrue(ca.isnumber(-0))\n",
    "        self.assertTrue(ca.isnumber(0.00000000000000000000000000000000000000001))\n",
    "\n",
    "    def test_string_number(self):\n",
    "        self.assertTrue(ca.isnumber(\"2.5\"))\n",
    "        self.assertTrue(ca.isnumber(\"2\"))\n",
    "        self.assertTrue(ca.isnumber(\"0\"))\n",
    "\n",
    "    def test_string_non_number(self):\n",
    "        self.assertFalse(ca.isnumber(\"hello\"))\n",
    "        self.assertTrue(ca.isnumber(\"\"))\n",
    "\n",
    "    def test_none(self):\n",
    "        self.assertFalse(ca.isnumber(None))\n",
    "\n",
    "    def test_boolean(self):\n",
    "        self.assertTrue(ca.isnumber(True))\n",
    "        self.assertTrue(ca.isnumber(False))\n",
    "\n",
    "if __name__ == '__main__':\n",
    "    unittest.main()"
   ]
  },
  {
   "cell_type": "markdown",
   "id": "0bc75a2d-bdde-462f-9103-a40eeb197595",
   "metadata": {},
   "source": [
    "## Prueba Caja Blanca\n",
    "\n",
    "Para las pruebas de caja blanca vamos a utilizar la función __division__: "
   ]
  },
  {
   "cell_type": "code",
   "execution_count": 10,
   "id": "a28cec05-133b-4db3-8d1a-8679bd71b87e",
   "metadata": {},
   "outputs": [],
   "source": [
    "def division(a, b):\n",
    "    if b == 0:\n",
    "        return \"Error: División por cero\"\n",
    "    return a / b\n"
   ]
  },
  {
   "cell_type": "markdown",
   "id": "db901481-6755-4aa8-85ec-c7b5cccd5f9c",
   "metadata": {},
   "source": [
    "En este caso tendremos que crear el grafo de flujo asociado a la función para ver las sentencias/condiciones/decisiones que debemos de cubrir.\n",
    "Here is a simple flow chart:\n",
    "\n",
    "```mermaid\n",
    "graph TD;\n",
    "    Inicio-->IF(if not mayorcero);\n",
    "    Inicio-->ELSE(else: return a/b);\n",
    "    IF-->Fin;\n",
    "    ELSE-->Fin;\n",
    "```\n",
    "\n",
    "Del grafo, vemos que para cubrir las sentencias/condiciones/decisiones tenemos que hacer una prueba por cada uno de los posibles caminos del grafo, por lo tanto:\n",
    "> - Divisor mayor que cero\n",
    "> - Divisor menor o igual a cero.\n",
    "\n",
    "Vamos a darnos cuenta que las pruebas de caja blanca y caja negra son complementarias, es por eso que en las pruebas de caja blanca, no voy a hacer pruebas con números negativos, cadenas de caracteres, etc... de eso ya se encargan las pruebas de caja blanca en las que sí lo tendríamos que hacer."
   ]
  },
  {
   "cell_type": "code",
   "execution_count": 9,
   "id": "72f99d79-9fa6-4fe4-ac30-695e5c6b6c0b",
   "metadata": {},
   "outputs": [
    {
     "name": "stderr",
     "output_type": "stream",
     "text": [
      "E\n",
      "======================================================================\n",
      "ERROR: /home/carlitos/ (unittest.loader._FailedTest./home/carlitos/)\n",
      "----------------------------------------------------------------------\n",
      "AttributeError: module '__main__' has no attribute '/home/carlitos/'\n",
      "\n",
      "----------------------------------------------------------------------\n",
      "Ran 1 test in 0.003s\n",
      "\n",
      "FAILED (errors=1)\n"
     ]
    },
    {
     "ename": "SystemExit",
     "evalue": "1",
     "output_type": "error",
     "traceback": [
      "An exception has occurred, use %tb to see the full traceback.\n",
      "\u001b[0;31mSystemExit\u001b[0m\u001b[0;31m:\u001b[0m 1\n"
     ]
    },
    {
     "name": "stderr",
     "output_type": "stream",
     "text": [
      "/usr/lib/python3/dist-packages/IPython/core/interactiveshell.py:3585: UserWarning: To exit: use 'exit', 'quit', or Ctrl-D.\n",
      "  warn(\"To exit: use 'exit', 'quit', or Ctrl-D.\", stacklevel=1)\n"
     ]
    }
   ],
   "source": [
    "import unittest\n",
    "import basic_cal\n",
    "\n",
    "ca = basic_cal\n",
    "\n",
    "class TestDivisionCajaBlanca(unittest.TestCase):\n",
    "\n",
    "    def test_Positivo(self):\n",
    "        self.assertEqual(ca.division(1,1),1)\n",
    "    def test_Divisor0(self):\n",
    "        self.assertFalse(ca.division(1,0),False)\n",
    "    def test_positivo(self):\n",
    "        self.assertFalse(ca.division(1,3),False)\n",
    "    \n",
    "\n",
    "if __name__ == '__main__':\n",
    "    unittest.main()"
   ]
  },
  {
   "cell_type": "markdown",
   "id": "91a2abaa-358d-4285-ad3a-2512f45a84e6",
   "metadata": {},
   "source": [
    "## Ejecución del fichero de pruebas.\n",
    "Podemos colocar todas las pruebas en el mismo fichero o utilizar diferentes archivos para cada tipo de prueba. \n",
    "En mi caso he utilizado un único archivo con nombre test.py\n",
    ">Para ejecutar el archivo de pruebas utilizamos:"
   ]
  },
  {
   "cell_type": "code",
   "execution_count": 9,
   "id": "37eb694d-89bc-417d-92b3-262b5c6d853a",
   "metadata": {},
   "outputs": [
    {
     "name": "stdout",
     "output_type": "stream",
     "text": [
      "test_Divisor0 (test.TestDivisionCajaBlanca) ... El divisor debe de ser mayor que cero\n",
      "ok\n",
      "test_Positivo (test.TestDivisionCajaBlanca) ... ok\n",
      "test_boolean (test.TestIsNumber) ... ok\n",
      "test_float (test.TestIsNumber) ... ok\n",
      "test_great_integer (test.TestIsNumber) ... ok\n",
      "test_integer (test.TestIsNumber) ... ok\n",
      "test_none (test.TestIsNumber) ... ok\n",
      "test_string_non_number (test.TestIsNumber) ... ok\n",
      "test_string_number (test.TestIsNumber) ... ok\n",
      "test_boolean (test.TestMayorCero) ... ok\n",
      "test_float (test.TestMayorCero) ... ok\n",
      "test_great_integer (test.TestMayorCero) ... ok\n",
      "test_integer (test.TestMayorCero) ... ok\n",
      "test_none (test.TestMayorCero) ... ok\n",
      "test_string_non_number (test.TestMayorCero) ... ok\n",
      "test_string_number (test.TestMayorCero) ... ok\n",
      "test_cero (test.TestSuma) ... ok\n",
      "test_float (test.TestSuma) ... ok\n",
      "test_negativos (test.TestSuma) ... ok\n",
      "test_positivos (test.TestSuma) ... ok\n",
      "\n",
      "----------------------------------------------------------------------\n",
      "Ran 20 tests in 0.001s\n",
      "\n",
      "OK\n"
     ]
    }
   ],
   "source": [
    "!python3 -m unittest -v test.py"
   ]
  },
  {
   "cell_type": "code",
   "execution_count": null,
   "id": "3a4bf94e-4a07-4875-b6aa-dc6af31a8222",
   "metadata": {},
   "outputs": [],
   "source": []
  }
 ],
 "metadata": {
  "kernelspec": {
   "display_name": "Python 3 (ipykernel)",
   "language": "python",
   "name": "python3"
  },
  "language_info": {
   "codemirror_mode": {
    "name": "ipython",
    "version": 3
   },
   "file_extension": ".py",
   "mimetype": "text/x-python",
   "name": "python",
   "nbconvert_exporter": "python",
   "pygments_lexer": "ipython3",
   "version": "3.12.7"
  }
 },
 "nbformat": 4,
 "nbformat_minor": 5
}
